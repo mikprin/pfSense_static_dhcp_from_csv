{
 "cells": [
  {
   "cell_type": "markdown",
   "source": [
    "# pfSense_static_dhcp_from_csv\n",
    "This python code allow you to add static DHCP to XML configuration from CSV file. And here I will show you how:"
   ],
   "metadata": {}
  },
  {
   "cell_type": "code",
   "execution_count": 18,
   "source": [
    "## Preparation\n",
    "### Import module\n",
    "from pfsense_tools_mikprin.add_static_map_to_file import add_static_map_to_file\n",
    "\n",
    "### Set path for your configuration file. Can be downloaded from your PfSence web interface in backup.\n",
    "configuration_file = \"examples/example_pf_config.xml\" \n",
    "\n",
    "### Set your CSV file with all hosts to add to static map\n",
    "static_map_file = \"examples/staticmap.csv\" \n",
    "\n",
    "### Add enteries\n",
    "add_static_map_to_file(configuration_file, static_map_file, interface = \"lan\", output_file = \"./output_config.xml\")\n"
   ],
   "outputs": [],
   "metadata": {}
  },
  {
   "cell_type": "markdown",
   "source": [
    "`interface = \"lan\"` setting up target interface (case insensitive)\n",
    "\n",
    "`output_file = \"./output_config.xml\"` setting up output file name. Use `\"SAME_AS_INPUT\"` option to owerwrite input file.\n",
    "\n",
    "Now you can take output file and upload it to your pfsence page.\n"
   ],
   "metadata": {}
  },
  {
   "cell_type": "markdown",
   "source": [],
   "metadata": {}
  },
  {
   "cell_type": "code",
   "execution_count": null,
   "source": [],
   "outputs": [],
   "metadata": {}
  }
 ],
 "metadata": {
  "orig_nbformat": 4,
  "language_info": {
   "name": "python",
   "version": "3.10.2",
   "mimetype": "text/x-python",
   "codemirror_mode": {
    "name": "ipython",
    "version": 3
   },
   "pygments_lexer": "ipython3",
   "nbconvert_exporter": "python",
   "file_extension": ".py"
  },
  "kernelspec": {
   "name": "python3",
   "display_name": "Python 3.10.2 64-bit"
  },
  "interpreter": {
   "hash": "4e1d9a8909477db77738c33245c29c7265277ef753467dede8cf3f814cde494e"
  }
 },
 "nbformat": 4,
 "nbformat_minor": 2
}