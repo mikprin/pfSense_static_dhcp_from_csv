{
 "cells": [
  {
   "cell_type": "markdown",
   "source": [
    "# pfSense_static_dhcp_from_csv\n",
    "This python code allow you to add static DHCP to XML configuration from CSV file. And here I will show you how:"
   ],
   "metadata": {}
  },
  {
   "cell_type": "code",
   "execution_count": null,
   "source": [
    "# Import module\n"
   ],
   "outputs": [],
   "metadata": {}
  }
 ],
 "metadata": {
  "orig_nbformat": 4,
  "language_info": {
   "name": "python"
  }
 },
 "nbformat": 4,
 "nbformat_minor": 2
}